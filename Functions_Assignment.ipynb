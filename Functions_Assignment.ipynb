{
  "nbformat": 4,
  "nbformat_minor": 0,
  "metadata": {
    "colab": {
      "provenance": []
    },
    "kernelspec": {
      "name": "python3",
      "display_name": "Python 3"
    },
    "language_info": {
      "name": "python"
    }
  },
  "cells": [
    {
      "cell_type": "markdown",
      "source": [
        "#Functions\n",
        "1. What is the difference between a function and a method in Python?\n",
        " -  Functions are independent blocks of code that can be called from anywhere, while methods are tied to objects or classes and need an object or class instance to be invoked.\n",
        "\n",
        "2. Explain the concept of function arguments and parameters in Python?\n",
        " -   Function arguments are the real values passed to the function. Parameters are initialized to the values of the arguments supplied.\n",
        " -  Function parameters are the names listed in the function's definition.\n",
        "\n",
        "3. What are the different ways to define and call a function in Python?\n",
        " -  A function is declared using the 'def' keyword followed by the function name and parentheses containing any parameters the function may take. The function declaration is followed by a colon, and the function body is indented, containing the code to be executed.\n",
        "\n",
        "4. What is the purpose of the `return` statement in a Python function?\n",
        " - The return statement in Python ends a function and sends a value or values back to the caller. The return statement is useful when you need to send a value back from a function, such as when performing calculations or returning results.\n",
        "\n",
        "5.  What are iterators in Python and how do they differ from iterables?\n",
        " -  An iterator is an object that can be iterated upon, meaning that you can access its values one by one. Iterators are used for looping and list comprehensions.\n",
        " -  An Iterable is basically an object that any user can iterate over. An Iterator is also an object that helps a user in iterating over another object (that is iterable). We can generate an iterator when we pass the object to the iter() method.\n",
        "\n",
        "6.  Explain the concept of generators in Python and how they are defined?\n",
        " - Python generator functions are a powerful tool for creating iterators.\n",
        "\n",
        "- Generator Function in Python\n",
        "- A generator function is a special type of function that returns an iterator object. Instead of using return to send back a single value, generator functions use yield to produce a series of results over time. This allows the function to generate values and pause its execution after each yield, maintaining its state between iterations.\n",
        "\n",
        "7.  What are the advantages of using generators over regular functions?\n",
        " - Generators have several advantages over regular functions, including memory efficiency, lazy evaluation, and flexibility\n",
        "-  Memory efficiency:\n",
        "\n",
        "Generators generate values on the fly, so they don't need to store the entire sequence in memory. This makes them more memory efficient, especially for large datasets.\n",
        "Generator expressions are particularly useful for infinite sequences and large datasets.\n",
        "- Lazy evaluation:\n",
        "\n",
        "Generators compute values only when needed, which can improve performance. This is especially helpful for large datasets.\n",
        "Generators allow for lazy evaluation, which enables efficient processing of large datasets without consuming excessive memory.\n",
        "- Flexibility:\n",
        "\n",
        "Generator functions can be paused and resumed multiple times.\n",
        "Generator functions allow you to define an iterative algorithm by writing a single function.\n",
        "\n",
        "8. What is a lambda function in Python and when is it typically used?\n",
        " - A lambda function in Python is a small, anonymous function that's used for one-time operations. Lambda functions are often used for simple mathematical calculations, data transformations, and other short tasks.\n",
        "\n",
        "9. Explain the purpose and usage of the `map()` function in Python?\n",
        " - Map in Python is a function that works as an iterator to return a result after applying a function to every item of an iterable (tuple, lists, etc.). It is used when you want to apply a single transformation function to all the iterable elements.\n",
        "  "
      ],
      "metadata": {
        "id": "PAiLx41n_BTw"
      }
    },
    {
      "cell_type": "code",
      "source": [
        "s = ['1', '2', '3', '4']\n",
        "res = map(int, s)\n",
        "print(list(res))"
      ],
      "metadata": {
        "colab": {
          "base_uri": "https://localhost:8080/"
        },
        "id": "Q1GNniGkEIzu",
        "outputId": "8185520c-f4cd-4e9b-d05f-08a7baf66a79"
      },
      "execution_count": null,
      "outputs": [
        {
          "output_type": "stream",
          "name": "stdout",
          "text": [
            "[1, 2, 3, 4]\n"
          ]
        }
      ]
    },
    {
      "cell_type": "markdown",
      "source": [
        "Explanation: Here, we used the built-in int function to convert each string in the list s into an integer. The map() function takes care of applying int() to every element.\n",
        "\n",
        "10. What is the difference between `map()`, `reduce()`, and `filter()` functions in Python?\n",
        " - Map Function in Python:\n",
        "\n",
        "The map () function returns a map object(which is an iterator) of the results after applying the given function to each item of a given iterable (list, tuple, etc.).\n",
        "\n",
        "Syntax: map(fun, iter)\n",
        "Parameters:\n",
        "\n",
        "fun: It is a function to which map passes each element of given iterable.\n",
        "\n",
        "iter:  iterable object to be mapped.\n",
        " - Reduce Function in Python:\n",
        "\n",
        "  The reduce function is used to apply a particular function passed in its argument to all of the list elements mentioned in the sequence passed along.This function is defined in “functools” module.\n",
        "\n",
        "Syntax: reduce(func, iterable[, initial])\n",
        "\n",
        "Parameters:\n",
        "\n",
        "fun: It is a function to execuate on each element of the iterable object.\n",
        "\n",
        "iter: It is iterable to be reduced.\n",
        " - Filter Function in Python:\n",
        "\n",
        "The filter() method filters the given sequence with the help of a function that tests each element in the sequence to be true or not.\n",
        "\n",
        "Syntax: filter(function, sequence)\n",
        "\n",
        "Parameters:\n",
        "\n",
        "function: function that tests if each element of a sequence is true or not.\n",
        "\n",
        "sequence: sequence which needs to be filtered, it can be sets, lists, tuples, or containers of any iterators.\n",
        "\n",
        "11.  Using pen & Paper write the internal mechanism for sum operation using  reduce function on this given\n",
        "list:[47,11,42,13];\n",
        "- Image uploaded"
      ],
      "metadata": {
        "id": "nKZPc1C3EQkU"
      }
    },
    {
      "cell_type": "code",
      "source": [
        "#write the internal mechanism for sum operation using  reduce function on this given\n",
        "#list:[47,11,42,13];\n",
        "from functools import reduce\n",
        "numbers = [47, 11, 42, 13]\n",
        "sum = reduce(lambda x, y: x + y, numbers)\n",
        "print(sum)"
      ],
      "metadata": {
        "colab": {
          "base_uri": "https://localhost:8080/"
        },
        "id": "IkA2GwgXKSqA",
        "outputId": "9b26164d-747f-40db-d5cb-b3ed9b20642b"
      },
      "execution_count": null,
      "outputs": [
        {
          "output_type": "stream",
          "name": "stdout",
          "text": [
            "113\n"
          ]
        }
      ]
    },
    {
      "cell_type": "markdown",
      "source": [
        "#Practical Questions\n"
      ],
      "metadata": {
        "id": "0xrOvs2aOKrg"
      }
    },
    {
      "cell_type": "code",
      "execution_count": 15,
      "metadata": {
        "id": "g2zAedKuQXNf",
        "colab": {
          "base_uri": "https://localhost:8080/"
        },
        "outputId": "bd977e57-ef22-428e-f7f0-c189eb53e613"
      },
      "outputs": [
        {
          "output_type": "stream",
          "name": "stdout",
          "text": [
            "30\n"
          ]
        }
      ],
      "source": [
        "#1. Write a Python function that takes a list of numbers as input and returns the sum of all even numbers in\n",
        "#the list?\n",
        "def sum_even_numbers(numbers):\n",
        "    sum=0\n",
        "    for n in numbers:\n",
        "        if n%2==0:\n",
        "            sum=sum+n\n",
        "    return sum\n",
        "numbers = [1, 2, 3, 4, 5, 6, 7, 8, 9, 10]\n",
        "print(sum_even_numbers(numbers))\n",
        "\n",
        "\n",
        ""
      ]
    },
    {
      "cell_type": "code",
      "source": [
        "#2. Create a Python function that accepts a string and returns the reverse of that string?\n",
        "def reverse_string(string):\n",
        "    return string[::-1]\n",
        "\n",
        "string = \"Hello, World!\"\n",
        "print(reverse_string(string))\n"
      ],
      "metadata": {
        "colab": {
          "base_uri": "https://localhost:8080/"
        },
        "id": "oNKZzyhI_HdP",
        "outputId": "52663e57-f097-4914-e9bc-377834260997"
      },
      "execution_count": null,
      "outputs": [
        {
          "output_type": "stream",
          "name": "stdout",
          "text": [
            "!dlroW ,olleH\n"
          ]
        }
      ]
    },
    {
      "cell_type": "code",
      "source": [
        "#3.Implement a Python function that takes a list of integers and returns a new list containing the squares of\n",
        "#each number?\n",
        "def square_numbers(numbers):\n",
        "    squares = []\n",
        "    for num in numbers:\n",
        "        squares.append(num ** 2)\n",
        "    return squares\n",
        "\n",
        "numbers = [1, 2, 3, 4, 5]\n",
        "print(square_numbers(numbers))"
      ],
      "metadata": {
        "colab": {
          "base_uri": "https://localhost:8080/"
        },
        "id": "vPauleDq_mCo",
        "outputId": "98afd6be-f9ce-47ea-d880-b15231029216"
      },
      "execution_count": null,
      "outputs": [
        {
          "output_type": "stream",
          "name": "stdout",
          "text": [
            "[1, 4, 9, 16, 25]\n"
          ]
        }
      ]
    },
    {
      "cell_type": "code",
      "source": [
        "#4. Write a Python function that checks if a given number is prime or not from 1 to 200?\n",
        "numbers = list(range(1,200))\n",
        "def is_prime(number):\n",
        "    if number < 2:\n",
        "        return False\n",
        "    for i in range(2, int(number**0.5) + 1):\n",
        "        if number % i == 0:\n",
        "            return False\n",
        "    return True\n",
        "\n",
        "for number in numbers:\n",
        "    if is_prime(number):\n",
        "        print(number)"
      ],
      "metadata": {
        "colab": {
          "base_uri": "https://localhost:8080/"
        },
        "id": "zW-Wsy-SVYT5",
        "outputId": "e1569dfa-b167-49bc-b741-d2d70a1903dc"
      },
      "execution_count": 33,
      "outputs": [
        {
          "output_type": "stream",
          "name": "stdout",
          "text": [
            "2\n",
            "3\n",
            "5\n",
            "7\n",
            "11\n",
            "13\n",
            "17\n",
            "19\n",
            "23\n",
            "29\n",
            "31\n",
            "37\n",
            "41\n",
            "43\n",
            "47\n",
            "53\n",
            "59\n",
            "61\n",
            "67\n",
            "71\n",
            "73\n",
            "79\n",
            "83\n",
            "89\n",
            "97\n",
            "101\n",
            "103\n",
            "107\n",
            "109\n",
            "113\n",
            "127\n",
            "131\n",
            "137\n",
            "139\n",
            "149\n",
            "151\n",
            "157\n",
            "163\n",
            "167\n",
            "173\n",
            "179\n",
            "181\n",
            "191\n",
            "193\n",
            "197\n",
            "199\n"
          ]
        }
      ]
    },
    {
      "cell_type": "code",
      "source": [
        "#5. Create an iterator class in Python that generates the Fibonacci sequence up to a specified number of\n",
        "#terms?\n",
        "#defining function to return list of fibonacci elements\n",
        "def fibonacci(n):\n",
        "\n",
        "    l = [0,1]\n",
        "    for i in range(2,n):\n",
        "        l.append(l[-1]+l[-2])\n",
        "    return l\n",
        "\n",
        "#Main function\n",
        "if __name__ == \"__main__\":\n",
        "   #defining the total number of elements\n",
        "    n = 10\n",
        "\n",
        "    #calling of function\n",
        "    fibo = fibonacci(n)\n",
        "\n",
        "    #displaying the function\n",
        "    print(\"Fibonacci Series: \",*fibo)\n",
        ""
      ],
      "metadata": {
        "colab": {
          "base_uri": "https://localhost:8080/"
        },
        "id": "D0i38rMdVeEh",
        "outputId": "8ba28789-463e-4a33-a993-5230db2ce4b9"
      },
      "execution_count": 34,
      "outputs": [
        {
          "output_type": "stream",
          "name": "stdout",
          "text": [
            "Fibonacci Series:  0 1 1 2 3 5 8 13 21 34\n"
          ]
        }
      ]
    },
    {
      "cell_type": "code",
      "source": [
        "# 6. Write a generator function in Python that yields the powers of 2 up to a\n",
        "# given exponent?\n",
        "def power_generator(base, exponent):\n",
        "    result = 1\n",
        "    for i in range(exponent + 1):\n",
        "        yield result\n",
        "        result *= base\n",
        "\n",
        "# Accept input from the user\n",
        "base = int(input(\"Input the base number: \"))\n",
        "exponent = int(input(\"Input the exponent: \"))\n",
        "\n",
        "# Create the generator object\n",
        "power_gen = power_generator(base, exponent)\n",
        "\n",
        "# Generate and print the powers\n",
        "print(f\"Powers of {base} up to exponent {exponent}:\")\n",
        "for power in power_gen:\n",
        "    print(power)\n"
      ],
      "metadata": {
        "colab": {
          "base_uri": "https://localhost:8080/"
        },
        "id": "mvgmC4auWOvU",
        "outputId": "fbffa4d2-e240-48f8-b8b5-be6822fc2ed2"
      },
      "execution_count": 36,
      "outputs": [
        {
          "output_type": "stream",
          "name": "stdout",
          "text": [
            "Input the base number: 2\n",
            "Input the exponent: 2\n",
            "Powers of 2 up to exponent 2:\n",
            "1\n",
            "2\n",
            "4\n"
          ]
        }
      ]
    },
    {
      "cell_type": "code",
      "source": [
        "#7. Implement a generator function that reads a file line by line and yields each line as a string?\n",
        "L = [\"PW\\n\", \"Skills\\n\", \"DataAnalyst\\n\"]\n",
        "\n",
        "# Writing to file\n",
        "file1 = open('myfile.txt', 'w')\n",
        "file1.writelines(L)\n",
        "file1.close()\n",
        "\n",
        "# Opening file\n",
        "file1 = open('myfile.txt', 'r')\n",
        "count = 0\n",
        "\n",
        "# Using for loop\n",
        "print(\"Using for loop\")\n",
        "for line in file1:\n",
        "    count += 1\n",
        "    print(\"Line{}: {}\".format(count, line.strip()))\n",
        "\n",
        "# Closing files\n",
        "file1.close()\n"
      ],
      "metadata": {
        "colab": {
          "base_uri": "https://localhost:8080/"
        },
        "id": "jnnB0A1rYKQE",
        "outputId": "36baa829-97a2-4ab3-dd51-08faa2c685cd"
      },
      "execution_count": 40,
      "outputs": [
        {
          "output_type": "stream",
          "name": "stdout",
          "text": [
            "Using for loop\n",
            "Line1: PW\n",
            "Line2: Skills\n",
            "Line3: DataAnalyst\n"
          ]
        }
      ]
    },
    {
      "cell_type": "code",
      "source": [
        "#8. Use a lambda function in Python to sort a list of tuples based on the second element of each tuple?\n",
        "a = [(1, 3), (4, 1), (2, 2)]\n",
        "\n",
        "# Sort by second item\n",
        "sorted_list = sorted(a, key=lambda x: x[1])\n",
        "print(\"Sorted List:\", sorted_list)"
      ],
      "metadata": {
        "colab": {
          "base_uri": "https://localhost:8080/"
        },
        "id": "fPEOcsyyYXzl",
        "outputId": "a07da747-bde8-4808-8624-3ea1e66f4565"
      },
      "execution_count": 42,
      "outputs": [
        {
          "output_type": "stream",
          "name": "stdout",
          "text": [
            "Sorted List: [(4, 1), (2, 2), (1, 3)]\n"
          ]
        }
      ]
    },
    {
      "cell_type": "code",
      "source": [
        "#9. Write a Python program that uses `map()` to convert a list of temperatures from Celsius to Fahrenheit?\\\n",
        "Celsius = [39.2, 36.5, 37.3, 37.8]\n",
        "Fahrenheit = list(map(lambda x: (float(9)/5)*x + 32, Celsius))\n",
        "print (Fahrenheit)\n",
        "\n",
        ""
      ],
      "metadata": {
        "colab": {
          "base_uri": "https://localhost:8080/"
        },
        "id": "GuiDMhySZQKb",
        "outputId": "3395949e-fd23-4140-c999-c1c309b36783"
      },
      "execution_count": 44,
      "outputs": [
        {
          "output_type": "stream",
          "name": "stdout",
          "text": [
            "[102.56, 97.7, 99.14, 100.03999999999999]\n"
          ]
        }
      ]
    },
    {
      "cell_type": "code",
      "source": [
        "#10. Create a Python program that uses `filter()` to remove all the vowels from a given string?\n",
        "def remove_vowels(string):\n",
        "    vowels = 'aeiouAEIOU'\n",
        "    return ''.join(filter(lambda x: x not in vowels, string))\n",
        "\n",
        "string = \"Hello, World!\"\n",
        "print(remove_vowels(string))\n",
        "\n"
      ],
      "metadata": {
        "colab": {
          "base_uri": "https://localhost:8080/"
        },
        "id": "Z4JmzPjvabjp",
        "outputId": "52dd26c2-2731-47aa-c814-d7fc1beaef70"
      },
      "execution_count": 49,
      "outputs": [
        {
          "output_type": "stream",
          "name": "stdout",
          "text": [
            "Hll, Wrld!\n"
          ]
        }
      ]
    },
    {
      "cell_type": "code",
      "source": [
        "#11.Write a Python program, which returns a list with 2-tuples. Each tuple consists of the order number and the\n",
        "#product of the price per item and the quantity. The product should be increased by 10,- € if the value of the\n",
        "#order is smaller than 100,00 €.\n",
        "\n",
        "#Write a Python program using lambda and map?\n",
        "\n",
        "order = [[34587,'Learning Python','Mark Lutz',4,40.95],\n",
        "         [98762,'Programming Python','Mark Lutz',5,56.80],\n",
        "         [77226,'Head First Python','Paul Barry',3,32.95],\n",
        "         [88112,'Einführung in Python3','Bernd Klein',3,24.99]\n",
        "         ]\n",
        "\n",
        "\n",
        "\n",
        "\n",
        "\n",
        "#with using lambda and map\n",
        "print(\"Order Summary: \",list(map(lambda x: (x[0],x[-1]) if x[-1]*x[-2] > 100 else x[-1]*x[-2]+10, order)))\n",
        "\n",
        "\n",
        "#with using list comprehension\n",
        "print(\"Order Summary: \",[(item[0],item[-1]) if item[-1]*item[-2] > 100 else (item[0],item[-1]*item[-2]+10) for item in order])\n",
        "print(\"Order Summary: \",[(item[0],item[-1]) if item[-1]*item[-2] > 100 else (item[0],item[-1]*item[-2]+10) for item in order])\n"
      ],
      "metadata": {
        "colab": {
          "base_uri": "https://localhost:8080/"
        },
        "id": "H36qO4sObyfP",
        "outputId": "88a5d7cb-59bd-4298-cd0f-322c9d4cd92a"
      },
      "execution_count": 52,
      "outputs": [
        {
          "output_type": "stream",
          "name": "stdout",
          "text": [
            "Order Summary:  [(34587, 40.95), (98762, 56.8), 108.85000000000001, 84.97]\n",
            "Order Summary:  [(34587, 40.95), (98762, 56.8), (77226, 108.85000000000001), (88112, 84.97)]\n",
            "Order Summary:  [(34587, 40.95), (98762, 56.8), (77226, 108.85000000000001), (88112, 84.97)]\n"
          ]
        }
      ]
    }
  ]
}